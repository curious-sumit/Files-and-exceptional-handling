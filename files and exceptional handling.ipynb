{
  "nbformat": 4,
  "nbformat_minor": 0,
  "metadata": {
    "colab": {
      "provenance": []
    },
    "kernelspec": {
      "name": "python3",
      "display_name": "Python 3"
    },
    "language_info": {
      "name": "python"
    }
  },
  "cells": [
    {
      "cell_type": "markdown",
      "source": [
        "1. What is the difference between interpreted and compiled languages?\n",
        "   - Interpreted Languages:\n",
        "     * Execution: Code is read and executed line-by-line by an interpreter at runtime.\n",
        "     * Translation: No separate build step; the program runs directly from source code.\n",
        "     * Speed: Typically slower execution since it translates on the fly.\n",
        "     * Flexibility: Easier to test and debug interactively.\n",
        "     * Examples: Python, JavaScript, Ruby, etc.\n",
        "\n",
        "     Compiled Languages:\n",
        "     * Execution: Source code is converted entirely into machine code by a compiler before running.\n",
        "     * Translation: Produces a separate executable file (.exe, .out).\n",
        "     * Speed: Faster execution because the computer runs native machine code.\n",
        "     * Flexibility: Slower to test changes; needs recompilation after each edit.\n",
        "     * Examples: C, C++, Rust, etc."
      ],
      "metadata": {
        "id": "xya05zjxph-0"
      }
    },
    {
      "cell_type": "markdown",
      "source": [
        "2. What is exception handling in Python?\n",
        "   - Exceptions are runtime errors that interrupt the normal flow of a program. For example: Dividing by zero → ZeroDivisionError, Accessing a missing file → FileNotFoundError, Using an undefined variable → NameError, etc.\n",
        "\n",
        "     Exception handling in Python is how the language gracefully manages errors that occur during program execution—without crashing the whole thing.\n",
        "\n",
        "     Python's Exception Handling Structure by using the try-except block:\n",
        "\n",
        "               try:\n",
        "                   # Code that might raise an error\n",
        "                   result = 10 / 0\n",
        "               except ZeroDivisionError:\n",
        "                   # Code that runs if the error occurs\n",
        "                   print(\"You can't divide by zero!\")\n",
        "\n",
        "     Optional Blocks:\n",
        "     * else → Runs if no exception occurs\n",
        "     * finally → Always runs, whether or not there's an exception"
      ],
      "metadata": {
        "id": "c0LIjyMurHWs"
      }
    },
    {
      "cell_type": "markdown",
      "source": [
        "3. What is the purpose of the finally block in exception handling?\n",
        "   - The finally block in Python is like the “no matter what” clause in your program - it ensures that certain code runs regardless of whether an exception was raised or handled.\n",
        "\n",
        "     Purpose of the finally Block:\n",
        "     * Always Executes: It runs after the try and except blocks, whether or not an exception occurred.\n",
        "     * Resource Cleanup: Perfect for closing files, releasing locks, disconnecting from databases, etc.\n",
        "     * Reliable Final Step: Ensures critical wrap-up tasks are done—useful in real-world scenarios where cleanup must happen no matter what.\n",
        "\n",
        "     Example:\n",
        "               try:\n",
        "                   file = open(\"data.txt\", \"r\")\n",
        "                   # process the file\n",
        "               except FileNotFoundError:\n",
        "                   print(\"File not found!\")\n",
        "               finally:\n",
        "                   file.close()  # Ensures file is closed even if an exception occurs\n"
      ],
      "metadata": {
        "id": "wl1cAyENuRCn"
      }
    },
    {
      "cell_type": "markdown",
      "source": [
        "4. What is logging in Python?\n",
        "   - Logging in Python is a built-in way to record events that happen while program runs. Instead of using print() statements (which are great for quick debugging), logging gives a structured and flexible system to track what code is doing—especially helpful when things go wrong.\n",
        "\n",
        "     Why Use Logging?\n",
        "     * Helps debug and trace issues\n",
        "     * Records events for audit or analysis\n",
        "     * Used in production to monitor applications silently (without cluttering output)\n",
        "     * Allows you to configure where and how messages are stored (console, file, etc.)\n",
        "\n",
        "     Example:   \n",
        "            \n",
        "            import logging\n",
        "\n",
        "            # Set up basic configuration\n",
        "            logging.basicConfig(level=logging.INFO)\n",
        "\n",
        "            logging.debug(\"DEBUG: Detailed info, useful for diagnostics\")\n",
        "            logging.info(\"INFO:\tRoutine messages, general status updates\")\n",
        "            logging.warning(\"WARNING: Something unexpected, but not fatal\")\n",
        "            logging.error(\"ERROR: A serious issue that affects functionality\")\n",
        "            logging.critical(\"CRITICAL: Severe error, program may not continue\")\n"
      ],
      "metadata": {
        "id": "5QiId2tI4wJZ"
      }
    },
    {
      "cell_type": "markdown",
      "source": [
        "5. What is the significance of the __del__ method in Python?\n",
        "   - The __del__ method in Python is a special method known as a destructor. It's automatically called when an object is about to be destroyed—typically when it's no longer referenced and is about to be garbage collected.\n",
        "\n",
        "     Purpose of __del__\n",
        "     * Cleanup Resources: Release external resources like files, network connections, or memory buffers when an object is deleted.\n",
        "     * Logging or Debugging: Track when an object is destroyed for troubleshooting purposes.\n",
        "\n",
        "     Example:\n",
        "               class Device:\n",
        "                    def __init__(self, name):\n",
        "                       self.name = name\n",
        "                       print(f\"{self.name} initialized.\")\n",
        "\n",
        "                    def __del__(self):\n",
        "                       print(f\"{self.name} cleaned up.\")\n",
        "\n",
        "               device = Device(\"Sensor A\")\n",
        "               del device  # Triggers __del__()"
      ],
      "metadata": {
        "id": "8CXdURi68K8b"
      }
    },
    {
      "cell_type": "markdown",
      "source": [
        "6. What is the difference between import and from ... import in Python?\n",
        "   - Both import and from ... import ... are used to bring functionality from Python modules into code, but they do it in subtly different ways that can affect readability, namespace clarity, and even memory usage.\n",
        "\n",
        "     import module: This brings the entire module into your program. You need to prefix functions or variables with the module name.\n",
        "\n",
        "     Pros:\n",
        "     * Makes it clear where a function comes from (math.sqrt)\n",
        "     * Avoids name clashes with functions from other modules\n",
        "\n",
        "     Example:\n",
        "                    import math\n",
        "\n",
        "                    result = math.sqrt(16)\n",
        "\n",
        "     from module import item: This pulls specific parts (functions, classes, variables) directly into your namespace—no need to prefix with the module name.\n",
        "\n",
        "     Pros:\n",
        "     * Cleaner and shorter syntax\n",
        "     * Useful when you only need a small part of the module\n",
        "\n",
        "     Example:      \n",
        "                    from math import sqrt\n",
        "\n",
        "                    result = sqrt(16)\n"
      ],
      "metadata": {
        "id": "KxxLSXVECiKi"
      }
    },
    {
      "cell_type": "markdown",
      "source": [
        "7. How can you handle multiple exceptions in Python?\n",
        "   - Different types of exceptions could occur in a try block, Python handles each one separately (or even together) using multiple except clauses.\n",
        "\n",
        "     Method 1: Multiple except blocks (best for different handling logic): It can tailor each except block to respond differently depending on the error.\n",
        "\n",
        "     Example:\n",
        "                   try:\n",
        "                       num = int(input(\"Enter a number: \"))\n",
        "                       result = 100 / num\n",
        "                   except ValueError:\n",
        "                       print(\"That's not a valid number!\")\n",
        "                   except ZeroDivisionError:\n",
        "                       print(\"Division by zero is not allowed.\")\n",
        "     \n",
        "     Method 2: One except block for multiple exceptions (if handled the same): This catches either exception type and processes them identically—neat for when your response doesn't need to differ.\n",
        "\n",
        "     Example:\n",
        "                   try:\n",
        "                       num = int(input(\"Enter a number: \"))\n",
        "                       result = 100 / num\n",
        "                   except (ValueError, ZeroDivisionError) as e:\n",
        "                       print(f\"An error occurred: {e}\")\n",
        "    \n",
        "     Method 3: Catch-all (use with caution): Be careful with this one—it catches everything, which might mask bugs not expecting. It's great for logging in production, but not ideal during early development.\n",
        "\n",
        "     Example:\n",
        "                   try:\n",
        "                       # some code\n",
        "                   except Exception as e:\n",
        "                       print(f\"Something went wrong: {e}\")\n",
        "\n",
        "     Method 4: Use finally for cleanup and else for successful runs\n",
        "\n",
        "     Example:\n",
        "                   try:\n",
        "                       num = int(input(\"Enter a number: \"))\n",
        "                       result = 100 / num\n",
        "                   except (ValueError, ZeroDivisionError) as e:\n",
        "                       print(f\"Handled: {e}\")\n",
        "                   else:\n",
        "                       print(\"Operation successful:\", result)\n",
        "                   finally:\n",
        "                       print(\"Try-except block complete.\")"
      ],
      "metadata": {
        "id": "AMMUL4jCEbB5"
      }
    },
    {
      "cell_type": "markdown",
      "source": [
        "8. What is the purpose of the with statement when handling files in Python?\n",
        "   - The with statement in Python is used to manage resources efficiently and safely, especially when working with files. Its primary purpose is to ensure that resources are automatically cleaned up, even if errors occur while working with them.\n",
        "\n",
        "     Why Use with for File Handling?\n",
        "     * Automatic Cleanup: Closes the file when the block is done—no need to call file.close()\n",
        "     * Exception Safety: Even if an error occurs in the block, the file still gets closed\n",
        "     * Cleaner Code: Reduces boilerplate and improves readability\n",
        "\n",
        "     Example:\n",
        "                   with open(\"data.txt\", \"r\") as file:\n",
        "                        contents = file.read()\n",
        "                        print(contents)\n",
        "     \n",
        "     * open() returns a file object\n",
        "     * as file gives it a name for use inside the block\n",
        "     * When the block ends, Python automatically calls file.close()"
      ],
      "metadata": {
        "id": "GQR55RBpKbb3"
      }
    },
    {
      "cell_type": "markdown",
      "source": [
        "9. What is the difference between multithreading and multiprocessing?\n",
        "   - Multithreading:\n",
        "     * Definition: Runs multiple threads (smaller units of a process) within the same memory space.\n",
        "     * Use Case: Best for I/O-bound tasks—like reading files, handling network requests, or interacting with APIs.\n",
        "     * Performance Note: In CPython, the Global Interpreter Lock (GIL) allows only one thread to execute Python bytecode at a time, so it doesn't help with CPU-bound tasks.\n",
        "     * Memory: Shares the same memory space—makes data sharing easier but thread safety becomes crucial.\n",
        "\n",
        "     Example:\n",
        "                import threading\n",
        "\n",
        "                def print_hello():\n",
        "                    print(\"Hello from thread!\")\n",
        "\n",
        "                t = threading.Thread(target=print_hello)\n",
        "                t.start()\n",
        "\n",
        "     Multiprocessing:\n",
        "     * Definition: Runs multiple processes, each with its own Python interpreter and memory space.\n",
        "     * Use Case: Ideal for CPU-bound tasks—like heavy computations, simulations, or data processing.\n",
        "     * Performance Note: Bypasses the GIL by running in separate processes—true parallelism!\n",
        "     * Memory: Each process has its own memory—makes communication harder, but avoids conflicts.\n",
        "\n",
        "     Example:     \n",
        "                import multiprocessing\n",
        "\n",
        "                def compute():\n",
        "                    print(\"Hello from process!\")\n",
        "\n",
        "                p = multiprocessing.Process(target=compute)\n",
        "                p.start()"
      ],
      "metadata": {
        "id": "N0tuB7UedXi5"
      }
    },
    {
      "cell_type": "markdown",
      "source": [
        "10. What are the advantages of using logging in a program?\n",
        "    - The Following advantages of using logging in a program:\n",
        "\n",
        "      1 Easier Debugging and Diagnostics -\n",
        "        * Tracks what your program is doing step-by-step\n",
        "        * Helps pinpoint where and why an error occurred—especially when bugs don't trigger an outright crash\n",
        "        * Much more powerful and detailed than print() statements\n",
        "\n",
        "      2 Persistent Records -\n",
        "        * Logs can be saved to files, making it easy to review system behavior over time\n",
        "        * Useful for tracing long-running applications or tracking rare bugs\n",
        "\n",
        "      3 Severity Levels & Filtering -\n",
        "        * Helps organize messages by importance: DEBUG, INFO, WARNING, ERROR, and CRITICAL\n",
        "        * It can focus on critical issues in production and turn on more detail when debugging\n",
        "\n",
        "      4 Safe for Production -\n",
        "        * Unlike print(), logging can be silently monitored in production environments without disrupting user experience\n",
        "        * It investigate post-mortem without affecting performance\n",
        "\n",
        "      5 Highly Configurable -\n",
        "        * Control output format: timestamps, filenames, line numbers, etc.\n",
        "        * Send output to console, file, server, email—whatever fits your app's needs\n",
        "\n",
        "      6 Supports Multi-threaded and Multi-process Apps -\n",
        "        * With proper configuration, logging works seamlessly across threads and processes\n",
        "        * Ideal for building scalable, real-world systems where concurrent tasks are happening\n",
        "\n",
        "      7 Monitoring and Auditing -\n",
        "        * Acts as a behavioral history for your app—perfect for compliance, analysis, or understanding usage patterns"
      ],
      "metadata": {
        "id": "TErpX53KfAb9"
      }
    },
    {
      "cell_type": "markdown",
      "source": [
        "11. What is memory management in Python?\n",
        "    - Memory management in Python is all about how the language efficiently allocates, tracks, and reclaims memory while program runs - so you don't have to micromanage memory like in lower-level languages such as C or C++.\n",
        "\n",
        "     How Python Handles Memory:\n",
        "\n",
        "     1 Automatic Memory Allocation -\n",
        "       * Python automatically allocates memory for variables, objects, and data structures during runtime.\n",
        "       * This happens behind the scenes using an internal memory manager.\n",
        "\n",
        "     2 Reference Counting -\n",
        "       * Every object in Python has a reference count: a tally of how many variables are referencing it.\n",
        "       * When the reference count drops to zero (i.e., no one's using it anymore), the memory can be reclaimed.\n",
        "\n",
        "     3 Garbage Collection -\n",
        "       * Python has a garbage collector to deal with objects that reference each other (circular references), which reference counting alone can't clean up.\n",
        "       * It occasionally checks for and deletes these unreferenced cycles.\n",
        "\n",
        "     Key Components of Python Memory Management:\n",
        "     * Private Heap Space -\tAll objects and data structures are stored here\n",
        "     * Memory Manager\t- Oversees allocation of heap space and caches frequently-used values\n",
        "     * Garbage Collector\tReclaims memory from unreachable objects"
      ],
      "metadata": {
        "id": "sk3ILrz41_BB"
      }
    },
    {
      "cell_type": "markdown",
      "source": [
        "12. What are the basic steps involved in exception handling in Python?\n",
        "    - Exception handling in Python follows a clear and structured process that helps keep program safe and stable when unexpected events occur. Here's a step-by-step breakdown to make it crystal clear:\n",
        "      * Identify Risky Code with try - Wrap the code that might raise an exception inside a try block.\n",
        "      * Catch Specific Exceptions with except - Use one or more except blocks to handle anticipated errors.\n",
        "      * Use else for Successful Execution (Optional) - The else block runs only if the try block succeeds without raising exceptions.\n",
        "      * Use finally to Clean Up (Always Executes) - Put any cleanup code—like closing files or releasing connections—here.\n",
        "\n",
        "      Example:         \n",
        "                      try:\n",
        "                          num = int(input(\"Enter a number: \"))\n",
        "                          result = 100 / num\n",
        "                      except ValueError:\n",
        "                          print(\"That wasn't a number!\")\n",
        "                      except ZeroDivisionError:\n",
        "                          print(\"You can't divide by zero!\")\n",
        "                      else:\n",
        "                          print(\"Result:\", result)\n",
        "                      finally:\n",
        "                          print(\"End of calculation.\")"
      ],
      "metadata": {
        "id": "M8igVsyiKpgN"
      }
    },
    {
      "cell_type": "markdown",
      "source": [
        "13. Why is memory management important in Python?\n",
        "    - Following reasons of Memory management important in Python:\n",
        "      1 Prevents Memory Leaks -\n",
        "        * If unused objects aren't freed, they consume memory over time.\n",
        "        * In long-running programs—like servers or data pipelines—this could lead to crashes or serious performance drops.\n",
        "\n",
        "      2 Boosts Performance -\n",
        "        * Efficient memory usage helps Python respond faster.\n",
        "        * Especially critical when working with large datasets, multimedia processing, or real-time computations.\n",
        "\n",
        "      3 Keeps Resources Clean -\n",
        "        * Good memory management ensures that files, network connections, and other external resources are closed or cleaned up when no longer needed.\n",
        "\n",
        "      4 Enables Scalability -\n",
        "        * If building apps that handle lots of users or data streams (like IoT systems or cloud services), managing memory wisely ensures they grow without breaking.\n",
        "\n",
        "      5 Enhances Security & Stability -\n",
        "        * Poor memory management might inadvertently expose sensitive data or lead to bugs that attackers can exploit in extreme cases."
      ],
      "metadata": {
        "id": "eWigBsLbMcEk"
      }
    },
    {
      "cell_type": "markdown",
      "source": [
        "14. What is the role of try and except in exception handling?\n",
        "    - The try and except blocks are at the core of Python's exception handling—they are what allow program to anticipate and respond to errors, rather than just crashing.\n",
        "      \n",
        "      Why It's Important:\n",
        "      * Keeps save code from crashing on unexpected input\n",
        "      * It respond intelligently to different failure scenarios\n",
        "      * Make programs more robust, professional, and user-friendly\n",
        "\n",
        "      The try Block:\n",
        "      * This is where you write the code that might raise an exception.\n",
        "      * Python will monitor this block as it runs.\n",
        "      * If everything goes smoothly, it skips the except and continues as normal.\n",
        "\n",
        "      Example:  \n",
        "                  try:\n",
        "                      result = 10 / 0\n",
        "      \n",
        "      The except Block:\n",
        "      * This is where you handle the exception if one occurs in the try block.\n",
        "      * It can handle specific exceptions (like ZeroDivisionError) or multiple types.                \n",
        "\n",
        "      Example:         \n",
        "                  except ZeroDivisionError:\n",
        "                         print(\"Oops! You can't divide by zero.\")\n",
        "      \n",
        "      Together: Flow Control Example:\n",
        "\n",
        "                  try:\n",
        "                      number = int(input(\"Enter a number: \"))\n",
        "                      result = 100 / number\n",
        "                  except ValueError:\n",
        "                      print(\"That wasn't a number!\")\n",
        "                  except ZeroDivisionError:\n",
        "                      print(\"Can't divide by zero.\")"
      ],
      "metadata": {
        "id": "qe2WBGILOUWQ"
      }
    },
    {
      "cell_type": "markdown",
      "source": [
        "15. How does Python's garbage collection system work?\n",
        "    - Python's garbage collection (GC) system plays a crucial behind-the-scenes role in memory management.\n",
        "\n",
        "      Let's explore how it works:\n",
        "\n",
        "       1. Reference Counting: Python's Primary Mechanism -\n",
        "         * Every object in memory has a reference count: the number of active references pointing to it.\n",
        "         * When the count drops to zero (i.e., nothing is using it), the memory is immediately deallocated.\n",
        "\n",
        "       2. Garbage Collector for Cyclic References - it's counting fails for cycles, like two objects referring to each other:\n",
        "         * Even if no variable refers to obj1 or obj2, their internal references keep them \"alive.\"\n",
        "         * Python's gc module comes in here to detect and clean these up\n",
        "\n",
        "                    class A:\n",
        "                         def __init__(self):\n",
        "                            self.ref = None\n",
        "\n",
        "                    obj1 = A()\n",
        "                    obj2 = A()\n",
        "                    obj1.ref = obj2\n",
        "                    obj2.ref = obj1  # Cyclic reference\n",
        "\n",
        "       3. Generational Garbage Collection: Python's gc module divides objects into three generations -\n",
        "          * Gen 0:\tNewly created objects\n",
        "          * Gen 1:\tSurvived 1 round of collection\n",
        "          * Gen 2:\tLong-lived survivors\n",
        "\n",
        "          Python frequently cleans Gen 0 (cheap), and less often Gen 1 and Gen 2. This optimizes performance—most objects die young, so Python focuses on them.\n",
        "\n",
        "       4. Managing the GC: They can control it using the gc module:\n",
        "\n",
        "                    import gc\n",
        "\n",
        "                    gc.collect()         # Force a garbage collection cycle\n",
        "                    gc.disable()         # Turn off the collector\n",
        "                    gc.get_stats()       # View GC stats per generation\n"
      ],
      "metadata": {
        "id": "OVokS60lQ25R"
      }
    },
    {
      "cell_type": "markdown",
      "source": [
        "16. What is the purpose of the else block in exception handling?\n",
        "    - The else block in Python's exception handling structure is a bit of a hidden gem—it's optional, but incredibly useful for keeps code clean and intentional.\n",
        "       \n",
        "      The else block runs only if no exceptions are raised in the try block. It's a great place to put code that should only execute when the risky operation succeeds completely.\n",
        "\n",
        "      Why Use It?\n",
        "      * Keeps logic clear: Separates \"error-handling\" from \"success-path\" logic\n",
        "      * Improves readability: Groups post-success code in one neat spot\n",
        "      * Avoids accidental execution: Makes sure certain actions happen only when the try block doesn't fail\n",
        "\n",
        "      Example:\n",
        "                   try:\n",
        "                       num = int(input(\"Enter a number: \"))\n",
        "                       result = 100 / num\n",
        "                   except ValueError:\n",
        "                       print(\"Oops! That wasn't a valid number.\")\n",
        "                   except ZeroDivisionError:\n",
        "                       print(\"Can't divide by zero.\")\n",
        "                   else:\n",
        "                       print(f\"Result is: {result}\")  # Only runs if no exception occurred\n",
        "                   finally:\n",
        "                       print(\"This always runs.\")\n"
      ],
      "metadata": {
        "id": "-vtbgVL4U_Ct"
      }
    },
    {
      "cell_type": "markdown",
      "source": [
        "17. What are the common logging levels in Python?\n",
        "    - Python's logging module provides several built-in logging levels to categorize the importance or severity of events. These levels help control what gets logged and where it's sent (like a file, console, etc.).\n",
        "\n",
        "      Common Logging Levels in Python -\n",
        "      * DEBUG Level: Value = 10: Detailed information, used for diagnosing problems during development.\n",
        "      * INFO Level: Value =\t20:\tGeneral events to confirm things are working as expected.\n",
        "      * WARNING Level: Value = 30: Something unexpected or a sign of potential issues—but not critical.\n",
        "      * ERROR Level: Value = 40:\tMore serious issues—like exceptions that affect functionality.\n",
        "      * CRITICALLevel :Value = 50: Serious errors that may prevent the program from continuing.\n",
        "\n",
        "      Example:\n",
        "                 import logging\n",
        "\n",
        "                 logging.basicConfig(level=logging.DEBUG)\n",
        "\n",
        "                 logging.debug(\"Debugging details for developers\")\n",
        "                 logging.info(\"Just FYI: the process started\")\n",
        "                 logging.warning(\"This could be a problem\")\n",
        "                 logging.error(\"A major error occurred\")\n",
        "                 logging.critical(\"System failure!\")"
      ],
      "metadata": {
        "id": "Dz5t5lAEts6Z"
      }
    },
    {
      "cell_type": "markdown",
      "source": [
        "18. What is the difference between os.fork() and multiprocessing in Python?\n",
        "    - os.fork() and the multiprocessing module in Python are used to create new processes, but they differ significantly in abstraction level, portability, and safety.\n",
        "\n",
        "      os.fork(): Low-Level Process Creation -\n",
        "      * What it does: Directly calls the operating system's fork() system call to create a child process that is an exact copy of the parent.\n",
        "      * Platform: Only works on Unix-like systems (Linux, macOS). Not available on Windows.\n",
        "      * Memory: Uses copy-on-write—the child shares memory pages with the parent until one modifies them.\n",
        "      * Control: Gives fine-grained control, but must manage everything manually (e.g., communication, synchronization).\n",
        "      * Risk: Can be unsafe in multi-threaded programs due to shared state and potential deadlocks.\n",
        "\n",
        "      Example:  \n",
        "                  import os\n",
        "\n",
        "                  pid = os.fork()\n",
        "                  if pid == 0:\n",
        "                     print(\"Child process\")\n",
        "                  else:\n",
        "                     print(\"Parent process\")      \n",
        "\n",
        "      multiprocessing: High-Level Abstraction -\n",
        "      * What it does: Provides a cross-platform API to spawn new processes using different start methods (fork, spawn, forkserver).\n",
        "      * Platform: Works on Windows, macOS, and Linux.\n",
        "      * Memory: Each process has its own memory space, avoiding shared-state issues.\n",
        "      * Communication: Offers built-in tools like Queue, Pipe, Value, and Array for safe inter-process communication.\n",
        "      * Start Methods:\n",
        "        * fork: Fast but risky (default on Unix)\n",
        "        * spawn: Safer, starts a fresh interpreter (default on Windows/macOS)\n",
        "        * forkserver: Starts a clean server process to fork from (safe and efficient)\n",
        "\n",
        "      Example:   \n",
        "                  from multiprocessing import Process\n",
        "\n",
        "                  def greet():\n",
        "                     print(\"Hello from a new process!\")\n",
        "\n",
        "                  p = Process(target=greet)\n",
        "                  p.start()\n",
        "                  p.join()"
      ],
      "metadata": {
        "id": "83HC4-PWw81h"
      }
    },
    {
      "cell_type": "markdown",
      "source": [
        "19. What is the importance of closing a file in Python?\n",
        "    - Closing a file in Python is crucial for keeping your programs safe, clean, and efficient.\n",
        "\n",
        "      The following importance of closing a file in Python -\n",
        "      1. Frees Up System Resources:\n",
        "         * Open files consume system resources (file descriptors, memory buffers).\n",
        "         * If too many files remain open, you can hit system limits or cause performance issues.\n",
        "\n",
        "      2. Ensures Data is Saved:\n",
        "         * When writing to a file, data may be buffered (stored temporarily in memory).\n",
        "         * close() flushes the buffer, ensuring all changes are actually written to disk.\n",
        "\n",
        "         Example:\n",
        "                    file = open(\"log.txt\", \"w\")\n",
        "                    file.write(\"Sensor reading: OK\")\n",
        "                    file.close()  # Guarantees that data is physically saved\n",
        "\n",
        "      3. Prevents Data Corruption:\n",
        "         * Leaving a file open, especially in write or append mode, risks corrupting the file if the program crashes before it's closed properly.\n",
        "\n",
        "      4. Releases File Locks:\n",
        "         * Some systems lock files when in use.\n",
        "         * close() releases that lock, allowing other programs or threads to access the file.    "
      ],
      "metadata": {
        "id": "L5CI5Lsy0Gru"
      }
    },
    {
      "cell_type": "markdown",
      "source": [
        "20. What is the difference between file.read() and file.readline() in Python?\n",
        "    - These two methods—file.read() and file.readline()—are both used to read data from a file, but they behave very differently in how much they read and how they're typically used.\n",
        "\n",
        "      file.read([size]) — Read the Whole File or a Chunk:\n",
        "      * Reads the entire file into a single string (or up to size bytes/characters if specified).\n",
        "      * Useful when you want all content at once.\n",
        "      * Return type\t- Single string\n",
        "      * Use case - Load or analyze full content\n",
        "      * Performance\t- Heavy for large files\n",
        "      * Suitable for parsing - Less flexible\n",
        "\n",
        "      Example:\n",
        "                    with open(\"example.txt\", \"r\") as file:\n",
        "                    content = file.read()\n",
        "                    print(content)\n",
        "\n",
        "      file.readline() — Read One Line at a Time:\n",
        "      * Reads just the next line (ending with \\n, if present).\n",
        "      * Return type\t- String (one line per call)\n",
        "      * Useful when processing files line-by-line.\n",
        "      * Use case - Line-by-line processing\n",
        "      * Performance - Efficient for sequential reads\n",
        "      * Suitable for parsing - More granular control\n",
        "\n",
        "      Example:\n",
        "                    with open(\"example.txt\", \"r\") as file:\n",
        "                    line = file.readline()\n",
        "                    print(line)"
      ],
      "metadata": {
        "id": "2gckOKx-TzM7"
      }
    },
    {
      "cell_type": "markdown",
      "source": [
        "21. What is the logging module in Python used for?\n",
        "    - Python's logging module is like a smart journal for your program—it records key events and messages while code runs, making it easier to monitor, debug, and maintain your applications.\n",
        "\n",
        "      Purpose of the logging Module:\n",
        "      * Tracks events during program execution\n",
        "      * Helps debug and trace problems without using intrusive print() statements\n",
        "      * Records activity in long-running or complex systems (e.g. sensor networks, servers, simulations)\n",
        "      * Captures errors and warnings without interrupting the user experience\n",
        "      * Stores logs in files, consoles, or external systems for post-analysis\n",
        "\n",
        "      Example:\n",
        "                    import logging\n",
        "\n",
        "                    logging.basicConfig(level=logging.INFO)\n",
        "\n",
        "                    logging.debug(\"Sensor initialized\")\n",
        "                    logging.info(\"System running smoothly\")\n",
        "                    logging.warning(\"Battery level low\")\n",
        "                    logging.error(\"Sensor read failure\")\n",
        "                    logging.critical(\"System shutdown imminent!\")\n"
      ],
      "metadata": {
        "id": "ojL6INtAWTnr"
      }
    },
    {
      "cell_type": "markdown",
      "source": [
        "22. What is the os module in Python used for in file handling?\n",
        "    - The os module in Python is like your backstage pass to the operating system—it gives powerful tools to interact with the file system beyond what basic file I/O offers.\n",
        "\n",
        "      Why It's Powerful\n",
        "      * Cross-platform compatibility: Works on Windows, macOS, and Linux\n",
        "      * Low-level control: Lets you manipulate files and directories at the OS level\n",
        "      * Essential for automation: Perfect for scripts that manage logs, backups, or data pipelines\n",
        "\n",
        "      Key Uses of the os Module in File Handling:\n",
        "      * open() (with write mode) - Creates a new file if it doesn't exist\n",
        "      * os.rename(old, new) - Renames a file or directory\n",
        "      * os.remove(path) - Deletes a file\n",
        "      * os.path.exists(path) - Checks if a file or directory exists\n",
        "      * os.path.getsize(path)\t- Returns size in bytes\n",
        "      * os.path.getmtime(path)\t- Returns last modified timestamp\n",
        "      * os.listdir(path) - Lists files and folders in a directory\n",
        "      * os.mkdir() / os.makedirs() - Creates single or nested directories\n",
        "      * os.rmdir() / shutil.rmtree() - Removes empty or non-empty directories\n",
        "      * os.getcwd() / os.chdir(path) - Gets or changes the current working directory\n",
        "      * os.path.join() - Builds OS-independent file paths\n",
        "\n",
        "      Example:\n",
        "                     import os\n",
        "\n",
        "                     # Create and write to a file\n",
        "                     with open(\"example.txt\", \"w\") as f:\n",
        "                         f.write(\"Hello, Happy!\")\n",
        "\n",
        "                     # Rename the file\n",
        "                     os.rename(\"example.txt\", \"greeting.txt\")"
      ],
      "metadata": {
        "id": "RVtTGd89cfEg"
      }
    },
    {
      "cell_type": "markdown",
      "source": [
        "23. What are the challenges associated with memory management in Python?\n",
        "    - The following challenges associated with memory management in Python:\n",
        "      1. Memory Leaks:\n",
        "         * Occur when objects are no longer needed but still referenced somewhere in the program.\n",
        "         * Common in circular references or when global variables or caches are not cleared.\n",
        "         \n",
        "      2. Circular References:\n",
        "         * Python's reference counting can't clean up objects that reference each other.\n",
        "         * The garbage collector handles these, but it doesn't run constantly—so cleanup may be delayed.\n",
        "      \n",
        "      3. Memory Fragmentation:\n",
        "         * Happens when memory is allocated and freed in uneven chunks.\n",
        "         * Over time, this can leave small unusable gaps in memory, reducing efficiency.\n",
        "         * Especially problematic in real-time or embedded systems\n",
        "\n",
        "      4. Performance Overhead from Garbage Collection:\n",
        "         * Python's garbage collector can pause program to clean up memory.\n",
        "         * These pauses may be negligible in small scripts but noticeable in real-time or high-throughput systems\n",
        "\n",
        "      5. Unintended Object Retention:\n",
        "         * Holding onto large data structures longer than necessary (e.g., in global scope or closures).\n",
        "         * Forgetting to release file handles, sockets, or database connections.\n",
        "         * It can lead to bloated memory usage and sluggish performance\n",
        "\n",
        "      6. Lack of Fine-Grained Control:\n",
        "         * Unlike C/C++, Python doesn't manually allocate or free memory.\n",
        "         * This abstraction is great for safety but limits optimization in memory-constrained environments\n",
        "\n",
        "      7. Debugging Memory Issues:\n",
        "         * Tools like gc, tracemalloc, and memory_profiler exist—but they require extra effort to use effectively.\n",
        "         * Memory bugs can be subtle and hard to reproduce without profiling   "
      ],
      "metadata": {
        "id": "czmOHCWK9kcC"
      }
    },
    {
      "cell_type": "markdown",
      "source": [
        "24. How do you raise an exception manually in Python?\n",
        "    - In Python, the raise statement followed by an exception instance (or exception class). This interrupts normal program flow and propagates the exception up the call stack until handled.\n",
        "\n",
        "      Basic syntax: raise SomeException(\"Error message\")\n",
        "\n",
        "      More about the raise statement:\n",
        "      * Use descriptive error messages to clarify what went wrong.\n",
        "      * Custom exceptions should inherit from Python's base Exception class.\n",
        "      * Always raise exceptions for unrecoverable errors (e.g., invalid input, broken invariants).\n",
        "\n",
        "      Key Methods:\n",
        "      1. Raise a built-in exception -\n",
        "                  # Raise ValueError with a custom message\n",
        "                  if condition:\n",
        "                     raise ValueError(\"Invalid value provided\")\n",
        "\n",
        "      2. Raise a custom exception -\n",
        "                  # Define a custom exception\n",
        "                  class CustomError(Exception):\n",
        "                       pass\n",
        "\n",
        "                  # Raise the custom exception\n",
        "                  raise CustomError(\"This is a custom error\")\n",
        "\n",
        "      3. Re-raise the current exception (inside an except block) -\n",
        "                  try:\n",
        "                      # Code that may fail\n",
        "                  except SomeException:\n",
        "                      # Handle partially, then re-raise\n",
        "                      print(\"Logging the error\")\n",
        "                      raise  # Re-raises the caught exception"
      ],
      "metadata": {
        "id": "s3XJWhJeCRQ4"
      }
    },
    {
      "cell_type": "markdown",
      "source": [
        "25. Why is it important to use multithreading in certain applications?\n",
        "    - Multithreading becomes especially valuable when writing programs that need to do multiple things at once without blocking each other.\n",
        "\n",
        "      Applications of Multithreading:\n",
        "      1. Handles I/O-bound Tasks Efficiently -\n",
        "         * Tasks like reading files, waiting for user input, or network requests spend a lot of time waiting.\n",
        "         * Threads allow your program to keep doing other things during that wait—so it doesn't just sit idle.\n",
        "\n",
        "      2. Improves Responsiveness -\n",
        "         * In GUI applications (like desktop apps), multithreading keeps the interface snappy.\n",
        "         * One thread can update the UI while another loads data or does background processing.\n",
        "\n",
        "     3. Real-Time or Concurrent Processing -\n",
        "        * Great for sensor monitoring, live data acquisition, or chat apps.\n",
        "        * One thread can read from a sensor while another logs or visualizes the data.\n",
        "\n",
        "     4. Reduces Latency in Networked Systems -\n",
        "        * For web servers, it helps handle multiple client requests simultaneously.\n",
        "        * One slow user won't freeze up the whole system.  "
      ],
      "metadata": {
        "id": "DR_2nS9RvNxw"
      }
    },
    {
      "cell_type": "code",
      "source": [
        "# 1. How can you open a file for writing in Python and write a string to it?\n",
        "\n",
        "str1 = 'Hi, How r u?'\n",
        "\n",
        "file = open('file1.txt', 'w')\n",
        "file.write(str1)\n",
        "file.close()\n",
        "\n",
        "file = open('file1.txt', 'r')\n",
        "print(file.read())\n",
        "file.close()"
      ],
      "metadata": {
        "id": "jk2CtUlQysAu",
        "colab": {
          "base_uri": "https://localhost:8080/"
        },
        "outputId": "d4240331-aad9-493e-a12f-e8dc417dd120"
      },
      "execution_count": null,
      "outputs": [
        {
          "output_type": "stream",
          "name": "stdout",
          "text": [
            "Hi, How r u?\n"
          ]
        }
      ]
    },
    {
      "cell_type": "code",
      "source": [
        "# 2. Write a Python program to read the contents of a file and print each line.\n",
        "\n",
        "str2 = ''' Hi, How r u?\n",
        " I m fine!\n",
        " What about you?'''\n",
        "\n",
        "with open('file2.txt', 'w') as file:\n",
        "    file.write(str2)\n",
        "\n",
        "file = open('file2.txt', 'r')\n",
        "string = file.readlines()\n",
        "for i in string:\n",
        "    print(i)\n",
        "file.close()"
      ],
      "metadata": {
        "colab": {
          "base_uri": "https://localhost:8080/"
        },
        "id": "ivsthhIDDGKR",
        "outputId": "e5f32ba1-3866-4512-988c-b74a6d75850d"
      },
      "execution_count": null,
      "outputs": [
        {
          "output_type": "stream",
          "name": "stdout",
          "text": [
            " Hi, How r u?\n",
            "\n",
            " I m fine!\n",
            "\n",
            " What about you?\n"
          ]
        }
      ]
    },
    {
      "cell_type": "code",
      "source": [
        "# 3. How would you handle a case where the file doesn't exist while trying to open it for reading?\n",
        "\n",
        "try:\n",
        "    with open(\"file3.txt\", \"r\") as file:\n",
        "        content = file.read()\n",
        "except FileNotFoundError:\n",
        "    print(\"File not found—creating a new one.\")\n",
        "    print()\n",
        "\n",
        "    with open(\"file3.txt\", \"w+\") as file:\n",
        "        file.write(\"This is a new file.\")\n",
        "        file.seek(0)\n",
        "        content = file.read()\n",
        "        print(content)"
      ],
      "metadata": {
        "colab": {
          "base_uri": "https://localhost:8080/"
        },
        "id": "ettVuJvSgAIB",
        "outputId": "2f7d3775-7d0b-4628-d7a2-4164da61aba3"
      },
      "execution_count": null,
      "outputs": [
        {
          "output_type": "stream",
          "name": "stdout",
          "text": [
            "File not found—creating a new one.\n",
            "\n",
            "This is a new file.\n"
          ]
        }
      ]
    },
    {
      "cell_type": "code",
      "source": [
        "# 4. Write a Python script that reads from one file and writes its content to another file.\n",
        "\n",
        "with open('file2.txt') as file:\n",
        "    content = file.readlines()\n",
        "\n",
        "print(content)\n",
        "print()\n",
        "\n",
        "with open('new_file4.txt', 'w+') as new_file:\n",
        "    new_file.writelines(content)\n",
        "    new_file.seek(0)\n",
        "    content1 = new_file.read()\n",
        "    print(content1)"
      ],
      "metadata": {
        "colab": {
          "base_uri": "https://localhost:8080/"
        },
        "id": "fet7pt2XM7j4",
        "outputId": "1454fb42-408a-4a02-9ecc-56ee803e38b1"
      },
      "execution_count": null,
      "outputs": [
        {
          "output_type": "stream",
          "name": "stdout",
          "text": [
            "[' Hi, How r u?\\n', ' I m fine!\\n', ' What about you?']\n",
            "\n",
            " Hi, How r u?\n",
            " I m fine!\n",
            " What about you?\n"
          ]
        }
      ]
    },
    {
      "cell_type": "code",
      "source": [
        "# 5. How would you catch and handle division by zero error in Python?\n",
        "\n",
        "num1 = int(input(\"Enter Dividend number: \"))\n",
        "num2 = int(input(\"Enter Divisor number: \"))\n",
        "\n",
        "try:\n",
        "    result = num1 / num2\n",
        "    print(int(result))\n",
        "except ZeroDivisionError:\n",
        "    print(\"Oops! You can't divide by zero.\")\n",
        "    print(\"By deafult divisor becomes 1, if some number divided by 0\")\n",
        "    print(f'{num1} divide by 1 is: {int(num1 / 1)}')"
      ],
      "metadata": {
        "colab": {
          "base_uri": "https://localhost:8080/"
        },
        "id": "yoyGEL0ShWM0",
        "outputId": "c437471d-0dbc-4b60-f4b1-d56b0c2f3ec1"
      },
      "execution_count": null,
      "outputs": [
        {
          "output_type": "stream",
          "name": "stdout",
          "text": [
            "Enter Dividend number: 4\n",
            "Enter Divisor number: 0\n",
            "Oops! You can't divide by zero.\n",
            "By deafult divisor becomes 1, if some number divided by 0\n",
            "4 divide by 1 is: 4\n"
          ]
        }
      ]
    },
    {
      "cell_type": "code",
      "source": [
        "# 6. Write a Python program that logs an error message to a log file when a division by zero exception occurs?\n",
        "\n",
        "import logging\n",
        "\n",
        "logging.basicConfig(filename=\"error_log.txt\", level=logging.ERROR, format=\"%(asctime)s - %(levelname)s - %(message)s\")\n",
        "\n",
        "try:\n",
        "    num1 = int(input(\"Enter dividend: \"))\n",
        "    num2 = int(input(\"Enter divisor: \"))\n",
        "\n",
        "    result = num1 / num2\n",
        "    print(f\"Result: {result}\")\n",
        "\n",
        "except ZeroDivisionError:\n",
        "    logging.error(\"Division by zero attempted.\")\n",
        "    print(\"Cannot divide by zero. Error logged in 'error_log.txt'.\")\n",
        "\n",
        "except ValueError:\n",
        "    logging.error(\"Invalid input: Non-integer value entered.\")\n",
        "    print(\"Please enter valid integers.\")"
      ],
      "metadata": {
        "id": "hy8ro_cul1v0",
        "colab": {
          "base_uri": "https://localhost:8080/"
        },
        "outputId": "fd67ac46-626d-40d6-d327-b48be282381b"
      },
      "execution_count": null,
      "outputs": [
        {
          "name": "stdout",
          "output_type": "stream",
          "text": [
            "Enter dividend: 4\n",
            "Enter divisor: 0\n"
          ]
        },
        {
          "output_type": "stream",
          "name": "stderr",
          "text": [
            "ERROR:root:Division by zero attempted.\n"
          ]
        },
        {
          "output_type": "stream",
          "name": "stdout",
          "text": [
            "Cannot divide by zero. Error logged in 'error_log.txt'.\n"
          ]
        }
      ]
    },
    {
      "cell_type": "code",
      "source": [
        "# 7. How do you log information at different levels (INFO, ERROR, WARNING) in Python using the logging module?\n",
        "\n",
        "import logging\n",
        "\n",
        "logging.basicConfig(filename=\"app.log\", level=logging.DEBUG, format=\"%(asctime)s - %(levelname)s - %(message)s\")\n",
        "\n",
        "logging.debug(\"This is a DEBUG message.\")\n",
        "logging.info(\"This is an INFO message.\")\n",
        "logging.warning(\"This is a WARNING message.\")\n",
        "logging.error(\"This is an ERROR message.\")\n",
        "logging.critical(\"This is a CRITICAL message.\")"
      ],
      "metadata": {
        "id": "VWO0WfJBng5y",
        "colab": {
          "base_uri": "https://localhost:8080/"
        },
        "outputId": "01f2fa57-a656-4bf7-c220-e4c9e19c195d"
      },
      "execution_count": null,
      "outputs": [
        {
          "output_type": "stream",
          "name": "stderr",
          "text": [
            "WARNING:root:This is a WARNING message.\n",
            "ERROR:root:This is an ERROR message.\n",
            "CRITICAL:root:This is a CRITICAL message.\n"
          ]
        }
      ]
    },
    {
      "cell_type": "code",
      "source": [
        "# 8.  Write a program to handle a file opening error using exception handling.\n",
        "\n",
        "try:\n",
        "    file = open(\"file8.txt\", \"r\")\n",
        "    content = file.read()\n",
        "    print(content)\n",
        "except FileNotFoundError:\n",
        "    print(\"File not found—creating a new one.\")\n",
        "    print()\n",
        "    with open(\"file8.txt\", \"w+\") as file:\n",
        "        file.write(\"This is a new file.\")\n",
        "        file.seek(0)\n",
        "        content = file.read()\n",
        "        print(content)"
      ],
      "metadata": {
        "id": "UQ7aPaJhnkEt",
        "colab": {
          "base_uri": "https://localhost:8080/"
        },
        "outputId": "d0b6a03d-4d77-4668-c69c-6f8ad54bfcdc"
      },
      "execution_count": null,
      "outputs": [
        {
          "output_type": "stream",
          "name": "stdout",
          "text": [
            "File not found—creating a new one.\n",
            "\n",
            "This is a new file.\n"
          ]
        }
      ]
    },
    {
      "cell_type": "code",
      "source": [
        "# 9. How can you read a file line by line and store its content in a list in Python?\n",
        "\n",
        "with open('file2.txt') as file:\n",
        "    content = file.readlines()\n",
        "\n",
        "with open('new_file9.txt', 'w+') as new_file:\n",
        "    new_file.writelines(content)\n",
        "    new_file.seek(0)\n",
        "    content1 = new_file.readlines()\n",
        "    print(content1)\n",
        "    print()\n",
        "    for i in content1:\n",
        "        print(i)"
      ],
      "metadata": {
        "colab": {
          "base_uri": "https://localhost:8080/"
        },
        "id": "D0DI2MG8nt9s",
        "outputId": "f8fd1482-f6d5-47e4-f95c-2c775e503f88"
      },
      "execution_count": null,
      "outputs": [
        {
          "output_type": "stream",
          "name": "stdout",
          "text": [
            "[' Hi, How r u?\\n', ' I m fine!\\n', ' What about you?']\n",
            "\n",
            " Hi, How r u?\n",
            "\n",
            " I m fine!\n",
            "\n",
            " What about you?\n"
          ]
        }
      ]
    },
    {
      "cell_type": "code",
      "source": [
        "# 10. How can you append data to an existing file in Python?\n",
        "\n",
        "str3 = \"Hi, How r u?\\n I m fine!\\n What about you?\\n\"\n",
        "str4 = \"Where from r u?\"\n",
        "\n",
        "with open('file10.txt', 'w+') as file:\n",
        "    file.write(str3)\n",
        "    file.seek(0)\n",
        "    content = file.read()\n",
        "    print(content)\n",
        "    print()\n",
        "\n",
        "with open('file10.txt', 'a+') as file:\n",
        "    content = file.write(str4)\n",
        "    file.seek(0)\n",
        "    content = file.read()\n",
        "    print(content)"
      ],
      "metadata": {
        "colab": {
          "base_uri": "https://localhost:8080/"
        },
        "id": "c4uenDBSkkJ9",
        "outputId": "21176f10-4fd9-400f-f41a-0582d05959ab"
      },
      "execution_count": null,
      "outputs": [
        {
          "output_type": "stream",
          "name": "stdout",
          "text": [
            "Hi, How r u?\n",
            " I m fine!\n",
            " What about you?\n",
            "\n",
            "\n",
            "Hi, How r u?\n",
            " I m fine!\n",
            " What about you?\n",
            "Where from r u?\n"
          ]
        }
      ]
    },
    {
      "cell_type": "code",
      "source": [
        "# 11.Write a Python program that uses a try-except block to handle an error when attempting to access a dictionary key that doesn't exist.\n",
        "\n",
        "my_dict = {'Name': 'Happy', 'Age': 23, 'Address': '123 XYZ'}\n",
        "\n",
        "try:\n",
        "    print(my_dict['Gender'])\n",
        "except KeyError:\n",
        "    print(\"Key not found in the dictionary.\")\n",
        "    print()\n",
        "    my_dict['Gender'] = 'Male'\n",
        "    print(my_dict)"
      ],
      "metadata": {
        "colab": {
          "base_uri": "https://localhost:8080/"
        },
        "id": "AbAeUsmvpVhb",
        "outputId": "0f50f101-8de7-464f-997d-9410b9ab4915"
      },
      "execution_count": null,
      "outputs": [
        {
          "output_type": "stream",
          "name": "stdout",
          "text": [
            "Key not found in the dictionary.\n",
            "\n",
            "{'Name': 'Happy', 'Age': 23, 'Address': '123 XYZ', 'Gender': 'Male'}\n"
          ]
        }
      ]
    },
    {
      "cell_type": "code",
      "source": [
        "# 12. Write a program that demonstrates using multiple except blocks to handle different types of exceptions.\n",
        "\n",
        "try:\n",
        "    numbers = [10, 20, 30]\n",
        "    index = int(input(\"Enter index (0–2): \"))\n",
        "    divisor = int(input(\"Enter divisor: \"))\n",
        "\n",
        "    value = numbers[index]\n",
        "\n",
        "    result = value / divisor\n",
        "\n",
        "    print(f\"Result: {result}\")\n",
        "\n",
        "except ValueError:\n",
        "    print(\"Invalid input! Please enter an integer.\")\n",
        "\n",
        "except IndexError:\n",
        "    print(\"Index out of range! Try 0, 1, or 2.\")\n",
        "\n",
        "except ZeroDivisionError:\n",
        "    print(\"Oops! Can't divide by zero.\")\n",
        "\n",
        "except Exception as e:\n",
        "    print(f\"An unexpected error occurred: {e}\")"
      ],
      "metadata": {
        "id": "2__oQgISqbux",
        "colab": {
          "base_uri": "https://localhost:8080/"
        },
        "outputId": "be320432-4065-49f8-ad43-52eeede637f5"
      },
      "execution_count": null,
      "outputs": [
        {
          "output_type": "stream",
          "name": "stdout",
          "text": [
            "Enter index (0–2): 3\n",
            "Enter divisor: 0\n",
            "Index out of range! Try 0, 1, or 2.\n"
          ]
        }
      ]
    },
    {
      "cell_type": "code",
      "source": [
        "# 13. How would you check if a file exists before attempting to read it in Python?\n",
        "\n",
        "import os\n",
        "\n",
        "if os.path.exists(\"file.txt\"):\n",
        "    with open(\"file.txt\", \"r\") as file:\n",
        "        content = file.read()\n",
        "        print(content)\n",
        "else:\n",
        "    print(\"File does not exist.\")"
      ],
      "metadata": {
        "colab": {
          "base_uri": "https://localhost:8080/"
        },
        "id": "38pWEEkzWUrs",
        "outputId": "82c32b59-0011-4271-d5d6-d0c361df4620"
      },
      "execution_count": null,
      "outputs": [
        {
          "output_type": "stream",
          "name": "stdout",
          "text": [
            "File does not exist.\n"
          ]
        }
      ]
    },
    {
      "cell_type": "code",
      "source": [
        "# 14. Write a program that uses the logging module to log both informational and error messages.\n",
        "\n",
        "import logging\n",
        "\n",
        "logging.basicConfig(filename=\"app_log.txt\", level=logging.INFO, format=\"%(asctime)s - %(levelname)s - %(message)s\")\n",
        "\n",
        "logging.info(\"Program started successfully.\")\n",
        "\n",
        "try:\n",
        "    x = 10\n",
        "    y = 0\n",
        "    result = x / y\n",
        "    logging.info(f\"Calculation result: {result}\")\n",
        "except ZeroDivisionError:\n",
        "    logging.error(\"Attempted division by zero.\")\n",
        "    print(\"Error occurred during calculation. Check the log file.\")\n",
        "else:\n",
        "    logging.info(\"Calculation completed without errors.\")\n",
        "\n",
        "logging.info(\"Program ended.\")"
      ],
      "metadata": {
        "colab": {
          "base_uri": "https://localhost:8080/"
        },
        "id": "1DbRWilqW9lm",
        "outputId": "90bde3cc-b605-42b2-fb45-ffc75370fa80"
      },
      "execution_count": null,
      "outputs": [
        {
          "output_type": "stream",
          "name": "stderr",
          "text": [
            "ERROR:root:Attempted division by zero.\n"
          ]
        },
        {
          "output_type": "stream",
          "name": "stdout",
          "text": [
            "Error occurred during calculation. Check the log file.\n"
          ]
        }
      ]
    },
    {
      "cell_type": "code",
      "source": [
        "# 15. Write a Python program that prints the content of a file and handles the case when the file is empty.\n",
        "\n",
        "try:\n",
        "    with open(\"file.txt\", \"w+\") as file:\n",
        "        file.seek(0)\n",
        "        content = file.read()\n",
        "        if content:\n",
        "            print(content)\n",
        "        else:\n",
        "            print(\"File is empty.\")\n",
        "except FileNotFoundError:\n",
        "    print(\"File not found.\")"
      ],
      "metadata": {
        "colab": {
          "base_uri": "https://localhost:8080/"
        },
        "id": "wQohf5IuXfTa",
        "outputId": "31af0228-9ca5-41bf-c322-82723a7ceb70"
      },
      "execution_count": null,
      "outputs": [
        {
          "output_type": "stream",
          "name": "stdout",
          "text": [
            "File is empty.\n"
          ]
        }
      ]
    },
    {
      "cell_type": "code",
      "source": [
        "# 16. Demonstrate how to use memory profiling to check the memory usage of a small program.\n",
        "\n",
        "import logging\n",
        "\n",
        "logging.basicConfig(filename=\"file16.txt\", level=logging.INFO, format=\"%(asctime)s - %(levelname)s - %(message)s\")\n",
        "\n",
        "logging.info(\"Program started successfully.\")\n",
        "\n",
        "try:\n",
        "    x = 10\n",
        "    y = 0\n",
        "    result = x / y\n",
        "    logging.info(f\"Result: {result}\")\n",
        "except ZeroDivisionError:\n",
        "    logging.error(\"Attempted division by zero.\")\n",
        "    print(\"Error occurred during calculation. Check the log file.\")\n",
        "else:\n",
        "    logging.info(\"Calculation completed without errors.\")\n",
        "\n",
        "logging.info(\"Program end.\")"
      ],
      "metadata": {
        "colab": {
          "base_uri": "https://localhost:8080/"
        },
        "id": "bZwxpY2zgj6m",
        "outputId": "af7907bc-c3b2-44d2-abbc-62cbbc834746"
      },
      "execution_count": null,
      "outputs": [
        {
          "output_type": "stream",
          "name": "stderr",
          "text": [
            "ERROR:root:Attempted division by zero.\n"
          ]
        },
        {
          "output_type": "stream",
          "name": "stdout",
          "text": [
            "Error occurred during calculation. Check the log file.\n"
          ]
        }
      ]
    },
    {
      "cell_type": "code",
      "source": [
        "# 17. Write a Python program to create and write a list of numbers to a file, one number per line.\n",
        "\n",
        "l1 = [1,2,3,4,5]\n",
        "\n",
        "with open('file17.txt', 'w+') as file:\n",
        "    for i in l1:\n",
        "        file.write(f'{i}\\n')\n",
        "    file.seek(0)\n",
        "    content = file.read()\n",
        "    print(content)"
      ],
      "metadata": {
        "colab": {
          "base_uri": "https://localhost:8080/"
        },
        "id": "HysHmoRdgt_Q",
        "outputId": "3a4fdfe2-db67-407e-885f-04c423469626"
      },
      "execution_count": null,
      "outputs": [
        {
          "output_type": "stream",
          "name": "stdout",
          "text": [
            "1\n",
            "2\n",
            "3\n",
            "4\n",
            "5\n",
            "\n"
          ]
        }
      ]
    },
    {
      "cell_type": "code",
      "source": [
        "# 18. How would you implement a basic logging setup that logs to a file with rotation after 1MB.\n",
        "\n",
        "\n",
        "import logging\n",
        "from logging.handlers import RotatingFileHandler\n",
        "\n",
        "logger = logging.getLogger(\"my_logger\")\n",
        "logger.setLevel(logging.INFO)\n",
        "\n",
        "handler = RotatingFileHandler(\"app.log\", maxBytes=1024 * 1024, backupCount=5)\n",
        "\n",
        "formatter = logging.Formatter(\"%(asctime)s - %(levelname)s - %(message)s\")\n",
        "handler.setFormatter(formatter)\n",
        "\n",
        "logger.addHandler(handler)\n",
        "\n",
        "logger.info(\"Application started.\")\n",
        "logger.warning(\"This is a warning.\")\n",
        "logger.error(\"Something went wrong!\")"
      ],
      "metadata": {
        "colab": {
          "base_uri": "https://localhost:8080/"
        },
        "id": "H9AAYVDZnCAW",
        "outputId": "a6de1555-6215-4193-a1a5-0b5583eac294"
      },
      "execution_count": 1,
      "outputs": [
        {
          "output_type": "stream",
          "name": "stderr",
          "text": [
            "INFO:my_logger:Application started.\n",
            "WARNING:my_logger:This is a warning.\n",
            "ERROR:my_logger:Something went wrong!\n"
          ]
        }
      ]
    },
    {
      "cell_type": "code",
      "source": [
        "# 19. Write a program that handles both IndexError and KeyError using a try-except block.\n",
        "\n",
        "data_list = [10, 20, 30]\n",
        "data_dict = {\"a\": 1, \"b\": 2, \"c\": 3}\n",
        "\n",
        "try:\n",
        "    print(\"List value:\", data_list[2])\n",
        "    print(\"Dictionary value:\", data_dict[\"d\"])\n",
        "except (IndexError, KeyError) as e:\n",
        "    if isinstance(e, IndexError):\n",
        "        print(\"IndexError: The list index is out of range.\")\n",
        "    elif isinstance(e, KeyError):\n",
        "        print(\"KeyError: The specified key is not found in the dictionary.\")"
      ],
      "metadata": {
        "colab": {
          "base_uri": "https://localhost:8080/"
        },
        "id": "CS2CYt3VnK55",
        "outputId": "58e3a7f7-99f0-4c4f-a2cb-ff6c3eaffde5"
      },
      "execution_count": null,
      "outputs": [
        {
          "output_type": "stream",
          "name": "stdout",
          "text": [
            "List value: 30\n",
            "KeyError: The specified key is not found in the dictionary.\n"
          ]
        }
      ]
    },
    {
      "cell_type": "code",
      "source": [
        "# 20. How would you open a file and read its contents using a context manager in Python?\n",
        "\n",
        "with open('file20.txt', 'w+') as file:\n",
        "    file.write('Hi, How r u?')\n",
        "    file.seek(0)\n",
        "    content = file.read()\n",
        "    print(content)"
      ],
      "metadata": {
        "colab": {
          "base_uri": "https://localhost:8080/"
        },
        "id": "NrIk8JXi7Q_A",
        "outputId": "86bc795c-4f53-49e9-df74-978d368e8d63"
      },
      "execution_count": null,
      "outputs": [
        {
          "output_type": "stream",
          "name": "stdout",
          "text": [
            "Hi, How r u?\n"
          ]
        }
      ]
    },
    {
      "cell_type": "code",
      "source": [
        "# 21. Write a Python program that reads a file and prints the number of occurrences of a specific word.\n",
        "\n",
        "\n",
        "specific_word = \"python\"\n",
        "file_path = \"file21.txt\"\n",
        "\n",
        "count = 0\n",
        "\n",
        "try:\n",
        "    with open(file_path, \"w+\") as file:\n",
        "        file.write(\"Python is a versatile programming language, and learning Python can open doors to countless opportunities in the tech world.\")\n",
        "        file.seek(0)\n",
        "        for line in file:\n",
        "            words = line.lower().split()\n",
        "            count += words.count(specific_word.lower())\n",
        "\n",
        "    print(f\"The word '{specific_word}' occurred {count} times in '{file_path}'.\")\n",
        "\n",
        "except FileNotFoundError:\n",
        "    print(f\"File '{file_path}' not found.\")"
      ],
      "metadata": {
        "colab": {
          "base_uri": "https://localhost:8080/"
        },
        "id": "1Yw8HmxA9tUn",
        "outputId": "6f52ba9c-fcfb-4d70-ab21-3fe2af4b9c52"
      },
      "execution_count": null,
      "outputs": [
        {
          "output_type": "stream",
          "name": "stdout",
          "text": [
            "The word 'python' occurred 2 times in 'file21.txt'.\n"
          ]
        }
      ]
    },
    {
      "cell_type": "code",
      "source": [
        "# 22. How can you check if a file is empty before attempting to read its contents?\n",
        "\n",
        "import os\n",
        "\n",
        "file_path = \"file22.txt\"\n",
        "\n",
        "with open(file_path, \"w+\") as file:\n",
        "    #file.write(\"Hello!\") # Uncomment this line if you don't want this file empty\n",
        "    file.seek(0)\n",
        "    content = file.read()\n",
        "\n",
        "if os.path.getsize(file_path) > 0:\n",
        "    print(\"File content: \", end='')\n",
        "    print(content)\n",
        "else:\n",
        "    print(\"File is empty.\")"
      ],
      "metadata": {
        "colab": {
          "base_uri": "https://localhost:8080/"
        },
        "id": "Z9c7r0q8wLWN",
        "outputId": "9e07e3ef-11ce-4efa-8d02-5e823cf0617f"
      },
      "execution_count": null,
      "outputs": [
        {
          "output_type": "stream",
          "name": "stdout",
          "text": [
            "File is empty.\n"
          ]
        }
      ]
    },
    {
      "cell_type": "code",
      "source": [
        "# 23. Write a Python program that writes to a log file when an error occurs during file handling.\n",
        "\n",
        "import logging\n",
        "import os\n",
        "\n",
        "logging.basicConfig(filename=\"error_log.txt\", level=logging.ERROR, format=\"%(asctime)s - %(levelname)s - %(message)s\")\n",
        "\n",
        "file_path = \"file23.txt\"\n",
        "\n",
        "try:\n",
        "    with open(file_path, \"r\") as file:\n",
        "        content = file.read()\n",
        "        print(\"File content:\")\n",
        "        print(content)\n",
        "\n",
        "except FileNotFoundError as e:\n",
        "    logging.error(f\"FileNotFoundError: {file_path} does not exist.\")\n",
        "    print(\"File not found. Error has been logged.\")\n",
        "\n",
        "except PermissionError as e:\n",
        "    logging.error(f\"PermissionError: Cannot access {file_path}.\")\n",
        "    print(\"Permission denied. Error has been logged.\")\n",
        "\n",
        "except Exception as e:\n",
        "    logging.error(f\"Unexpected error while accessing {file_path}: {e}\")\n",
        "    print(\"An unexpected error occurred. Check error_log.txt for details.\")"
      ],
      "metadata": {
        "colab": {
          "base_uri": "https://localhost:8080/"
        },
        "id": "8KDfJFX_0OX9",
        "outputId": "4899095c-7f45-480d-d712-b4f3689f1236"
      },
      "execution_count": null,
      "outputs": [
        {
          "output_type": "stream",
          "name": "stderr",
          "text": [
            "ERROR:root:FileNotFoundError: file23.txt does not exist.\n"
          ]
        },
        {
          "output_type": "stream",
          "name": "stdout",
          "text": [
            "File not found. Error has been logged.\n"
          ]
        }
      ]
    }
  ]
}